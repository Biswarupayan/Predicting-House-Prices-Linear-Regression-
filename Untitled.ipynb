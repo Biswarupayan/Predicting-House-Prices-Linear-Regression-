{
 "cells": [
  {
   "cell_type": "code",
   "execution_count": 16,
   "id": "f785cc03-c3cc-4cee-931e-b11bb4db6110",
   "metadata": {},
   "outputs": [
    {
     "name": "stdout",
     "output_type": "stream",
     "text": [
      "Mean Squared Error: 0.0\n",
      "Predicted Price: 540000.0\n"
     ]
    }
   ],
   "source": [
    "# Import necessary libraries\n",
    "import pandas as pd\n",
    "from sklearn.model_selection import train_test_split\n",
    "from sklearn.linear_model import LinearRegression\n",
    "from sklearn.metrics import mean_squared_error\n",
    "\n",
    "# Step 1: Load the dataset\n",
    "data = {\n",
    "    'Area': [1000, 1500, 2000, 2500, 3000],\n",
    "    'Bedrooms': [2, 3, 3, 4, 5],\n",
    "    'Price': [300000, 400000, 500000, 600000, 700000]\n",
    "}\n",
    "df = pd.DataFrame(data)\n",
    "\n",
    "# Step 2: Prepare features and target\n",
    "X = df[['Area', 'Bedrooms']]\n",
    "y = df['Price']\n",
    "\n",
    "# Step 3: Split the data into training and testing sets\n",
    "X_train, X_test, y_train, y_test = train_test_split(X, y, test_size=0.2, random_state=42)\n",
    "\n",
    "# Step 4: Train the model\n",
    "model = LinearRegression()\n",
    "model.fit(X_train, y_train)\n",
    "\n",
    "# Step 5: Make predictions\n",
    "y_pred = model.predict(X_test)\n",
    "\n",
    "# Step 6: Evaluate the model\n",
    "mse = mean_squared_error(y_test, y_pred)\n",
    "print(\"Mean Squared Error:\", mse)\n",
    "\n",
    "# Step 7: Example prediction\n",
    "new_data = pd.DataFrame({'Area': [2200], 'Bedrooms': [3]})\n",
    "predicted_price = model.predict(new_data)\n",
    "print(\"Predicted Price:\", predicted_price[0])\n"
   ]
  },
  {
   "cell_type": "code",
   "execution_count": null,
   "id": "89a24d3a-b8cb-4568-8cb1-4ca026f98fe4",
   "metadata": {},
   "outputs": [],
   "source": []
  }
 ],
 "metadata": {
  "kernelspec": {
   "display_name": "Python [conda env:base] *",
   "language": "python",
   "name": "conda-base-py"
  },
  "language_info": {
   "codemirror_mode": {
    "name": "ipython",
    "version": 3
   },
   "file_extension": ".py",
   "mimetype": "text/x-python",
   "name": "python",
   "nbconvert_exporter": "python",
   "pygments_lexer": "ipython3",
   "version": "3.12.7"
  }
 },
 "nbformat": 4,
 "nbformat_minor": 5
}
